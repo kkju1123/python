{
 "cells": [
  {
   "cell_type": "code",
   "execution_count": 1,
   "id": "e22f70b6-f353-4895-8cc0-828ab789586b",
   "metadata": {},
   "outputs": [
    {
     "ename": "SyntaxError",
     "evalue": "invalid syntax (3827820173.py, line 1)",
     "output_type": "error",
     "traceback": [
      "\u001b[0;36m  Cell \u001b[0;32mIn[1], line 1\u001b[0;36m\u001b[0m\n\u001b[0;31m    git add .\u001b[0m\n\u001b[0m        ^\u001b[0m\n\u001b[0;31mSyntaxError\u001b[0m\u001b[0;31m:\u001b[0m invalid syntax\n"
     ]
    }
   ],
   "source": [
    "git add ."
   ]
  },
  {
   "cell_type": "code",
   "execution_count": 2,
   "id": "d64c3562-5511-4d73-9065-c2506360a249",
   "metadata": {},
   "outputs": [],
   "source": [
    "!git add ."
   ]
  },
  {
   "cell_type": "code",
   "execution_count": 3,
   "id": "ec5ab1ae-8f03-4f5f-a981-8fd4f671dd3d",
   "metadata": {},
   "outputs": [
    {
     "name": "stdout",
     "output_type": "stream",
     "text": [
      "[main e63a357] first commit\n",
      " 7 files changed, 20 insertions(+)\n",
      " create mode 100644 .DS_Store\n",
      " create mode 100644 .ipynb_checkpoints/Untitled-checkpoint.ipynb\n",
      " create mode 100644 .ipynb_checkpoints/hello-checkpoint.py\n",
      " create mode 100644 .virtual_documents/Untitled.ipynb\n",
      " create mode 100644 Untitled.ipynb\n",
      " create mode 100644 anaconda_projects/db/project_filebrowser.db\n",
      " create mode 100644 hello.py\n",
      "Enumerating objects: 14, done.\n",
      "Counting objects: 100% (14/14), done.\n",
      "Delta compression using up to 8 threads\n",
      "Compressing objects: 100% (8/8), done.\n",
      "Writing objects: 100% (14/14), 1.64 KiB | 1.64 MiB/s, done.\n",
      "Total 14 (delta 0), reused 0 (delta 0), pack-reused 0\n",
      "To https://github.com/kkju1123/python.git\n",
      " * [new branch]      main -> main\n",
      "branch 'main' set up to track 'origin/main'.\n"
     ]
    }
   ],
   "source": [
    "!git commit -m \"first commit\"\n",
    "!git branch -M main\n",
    "!git remote add origin https://github.com/kkju1123/python.git\n",
    "!git push -u origin main"
   ]
  },
  {
   "cell_type": "code",
   "execution_count": 4,
   "id": "2a4b26b0-f2dd-48ed-a3bc-ceabb87bbd6e",
   "metadata": {},
   "outputs": [
    {
     "name": "stdout",
     "output_type": "stream",
     "text": [
      "Requirement already satisfied: numpy==1.26.4 in /opt/anaconda3/lib/python3.13/site-packages (1.26.4)\n"
     ]
    }
   ],
   "source": [
    "!pip install numpy==1.26.4"
   ]
  },
  {
   "cell_type": "code",
   "execution_count": 5,
   "id": "e7e78285-778a-4aac-8eaf-be364f70dfe0",
   "metadata": {},
   "outputs": [],
   "source": [
    "import numpy as np # import Numpy library to generate \n",
    "\n",
    "weights = np.around(np.random.uniform(size=6), decimals=2) # initialize the weights\n",
    "biases = np.around(np.random.uniform(size=3), decimals=2) # initialize the biases"
   ]
  },
  {
   "cell_type": "code",
   "execution_count": 6,
   "id": "2fb2185b-3c93-48d8-ae0f-f340732db825",
   "metadata": {},
   "outputs": [
    {
     "name": "stdout",
     "output_type": "stream",
     "text": [
      "[0.38 0.5  0.61 0.82 0.16 0.28]\n",
      "[0.31 0.79 0.52]\n"
     ]
    }
   ],
   "source": [
    "print(weights)\n",
    "print(biases)"
   ]
  },
  {
   "cell_type": "code",
   "execution_count": 7,
   "id": "fb61be6e-8282-459f-a5ea-0ff17725fc86",
   "metadata": {},
   "outputs": [
    {
     "name": "stdout",
     "output_type": "stream",
     "text": [
      "x1 is 0.5 and x2 is 0.85\n"
     ]
    }
   ],
   "source": [
    "x_1 = 0.5 # input 1\n",
    "x_2 = 0.85 # input 2\n",
    "\n",
    "print('x1 is {} and x2 is {}'.format(x_1, x_2))"
   ]
  },
  {
   "cell_type": "code",
   "execution_count": 8,
   "id": "20b007e0-84ce-4180-91e5-75b64919ed2a",
   "metadata": {},
   "outputs": [
    {
     "name": "stdout",
     "output_type": "stream",
     "text": [
      "The weighted sum of the inputs at the first node in the hidden layer is 0.925\n"
     ]
    }
   ],
   "source": [
    "z_11 = x_1 * weights[0] + x_2 * weights[1] + biases[0]\n",
    "\n",
    "print('The weighted sum of the inputs at the first node in the hidden layer is {}'.format(z_11))"
   ]
  },
  {
   "cell_type": "code",
   "execution_count": 10,
   "id": "13d736af-1609-4d93-8c13-397b884baf22",
   "metadata": {},
   "outputs": [
    {
     "name": "stdout",
     "output_type": "stream",
     "text": [
      "The weighted sum of the inputs at the second node in the hidden layer is 1.792\n"
     ]
    }
   ],
   "source": [
    "z_12 = x_1*weights[2]+x_2*weights[3]+biases[1]\n",
    "print('The weighted sum of the inputs at the second node in the hidden layer is {}'.format(np.around(z_12, decimals=4)))"
   ]
  },
  {
   "cell_type": "code",
   "execution_count": 12,
   "id": "7043c6d0-ca48-4341-97ca-a7ace1591c07",
   "metadata": {},
   "outputs": [
    {
     "name": "stdout",
     "output_type": "stream",
     "text": [
      "The activation of the first node in the hidden layer is 0.8572\n"
     ]
    }
   ],
   "source": [
    "a_11 = 1.0 / (1.0 + np.exp(-z_11))\n",
    "\n",
    "print('The activation of the first node in the hidden layer is {}'.format(np.around(a_11, decimals=4)))"
   ]
  },
  {
   "cell_type": "code",
   "execution_count": 14,
   "id": "1ee93e9f-6a8b-4430-bd5e-0ac52842295a",
   "metadata": {},
   "outputs": [
    {
     "name": "stdout",
     "output_type": "stream",
     "text": [
      "The activation of the second node in the hidden layer is 0.8572\n"
     ]
    }
   ],
   "source": [
    "a_12 = 1.0 / (1.0 + np.exp(-z_12))\n",
    "print('The activation of the second node in the hidden layer is {}'.format(np.around(a_12, decimals=4)))"
   ]
  },
  {
   "cell_type": "code",
   "execution_count": null,
   "id": "0d05a246-e4fc-4aeb-8fa3-33361b1d4038",
   "metadata": {},
   "outputs": [],
   "source": [
    "z_2 = a_11 * weights[4] + a_12 * weights[5] + biases[2]\n",
    "print('The weighted sum of the inputs at the node in the output layer is {}'.format(np.around(z_2, decimals=4)))"
   ]
  }
 ],
 "metadata": {
  "kernelspec": {
   "display_name": "Python [conda env:base] *",
   "language": "python",
   "name": "conda-base-py"
  },
  "language_info": {
   "codemirror_mode": {
    "name": "ipython",
    "version": 3
   },
   "file_extension": ".py",
   "mimetype": "text/x-python",
   "name": "python",
   "nbconvert_exporter": "python",
   "pygments_lexer": "ipython3",
   "version": "3.13.5"
  }
 },
 "nbformat": 4,
 "nbformat_minor": 5
}

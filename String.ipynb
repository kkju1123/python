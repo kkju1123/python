{
 "cells": [
  {
   "cell_type": "code",
   "execution_count": 1,
   "id": "d89e3583-cd1e-4ec0-9b6b-782c4902c43b",
   "metadata": {},
   "outputs": [
    {
     "name": "stdout",
     "output_type": "stream",
     "text": [
      "origin\n"
     ]
    }
   ],
   "source": [
    "!git remote"
   ]
  },
  {
   "cell_type": "code",
   "execution_count": 2,
   "id": "9eab6bb4-507d-458b-b972-65a8af4545b8",
   "metadata": {},
   "outputs": [
    {
     "name": "stdout",
     "output_type": "stream",
     "text": [
      "origin\thttps://github.com/kkju1123/python (fetch)\n",
      "origin\thttps://github.com/kkju1123/python (push)\n"
     ]
    }
   ],
   "source": [
    "!git remote -v"
   ]
  },
  {
   "cell_type": "code",
   "execution_count": 3,
   "id": "216167b2-fa70-4a22-9757-d06aac6652a4",
   "metadata": {},
   "outputs": [
    {
     "name": "stdout",
     "output_type": "stream",
     "text": [
      "* \u001b[32mmain\u001b[m\n"
     ]
    }
   ],
   "source": [
    "!git branch"
   ]
  },
  {
   "cell_type": "code",
   "execution_count": 4,
   "id": "6ec961ba-5737-4145-a68b-c09dc9b9b72b",
   "metadata": {},
   "outputs": [],
   "source": [
    "!git add ."
   ]
  },
  {
   "cell_type": "code",
   "execution_count": 5,
   "id": "e10aa78d-9b0c-4158-bf7c-b5caafbcaca5",
   "metadata": {},
   "outputs": [
    {
     "name": "stdout",
     "output_type": "stream",
     "text": [
      "[main 62f59fe] init\n"
     ]
    }
   ],
   "source": [
    "!git commit -m \"init\""
   ]
  },
  {
   "cell_type": "code",
   "execution_count": 6,
   "id": "6661f261-2330-4fee-a13b-3bd20f9e2d33",
   "metadata": {},
   "outputs": [
    {
     "name": "stdout",
     "output_type": "stream",
     "text": [
      "There is no tracking information for the current branch.\n",
      "Please specify which branch you want to merge with.\n",
      "See git-pull(1) for details.\n",
      "\n",
      "    git pull <remote> <branch>\n",
      "\n",
      "If you wish to set tracking information for this branch you can do so with:\n",
      "\n",
      "    git branch --set-upstream-to=origin/<branch> main\n",
      "\n"
     ]
    }
   ],
   "source": [
    "!git pull"
   ]
  },
  {
   "cell_type": "code",
   "execution_count": 7,
   "id": "49ed7282-c5b8-4d09-9b6b-de3c505fd5df",
   "metadata": {},
   "outputs": [
    {
     "name": "stdout",
     "output_type": "stream",
     "text": [
      "fatal: 'remote' does not appear to be a git repository\n",
      "fatal: Could not read from remote repository.\n",
      "\n",
      "Please make sure you have the correct access rights\n",
      "and the repository exists.\n"
     ]
    }
   ],
   "source": [
    "!git pull remote branch"
   ]
  },
  {
   "cell_type": "code",
   "execution_count": 8,
   "id": "2580557b-ccf4-43f5-aa3f-17ef0f4886ef",
   "metadata": {},
   "outputs": [
    {
     "name": "stdout",
     "output_type": "stream",
     "text": [
      "zsh:1: parse error near `<'\n"
     ]
    }
   ],
   "source": [
    "! git pull <remote> <branch>\n"
   ]
  },
  {
   "cell_type": "code",
   "execution_count": 9,
   "id": "cf548787-80ed-4edc-993c-b0c584dde57b",
   "metadata": {},
   "outputs": [
    {
     "name": "stdout",
     "output_type": "stream",
     "text": [
      "zsh:1: no such file or directory: branch\n"
     ]
    }
   ],
   "source": [
    "!git branch --set-upstream-to=origin/<branch> main"
   ]
  },
  {
   "cell_type": "code",
   "execution_count": 10,
   "id": "47bd1f95-00a1-4dff-b360-e11871f39f49",
   "metadata": {},
   "outputs": [
    {
     "name": "stdout",
     "output_type": "stream",
     "text": [
      "branch 'main' set up to track 'origin/main'.\n"
     ]
    }
   ],
   "source": [
    "!git branch --set-upstream-to=origin/main main\n"
   ]
  },
  {
   "cell_type": "code",
   "execution_count": 11,
   "id": "d2211f13-90dd-48ca-acb3-3b78cdd51636",
   "metadata": {},
   "outputs": [
    {
     "name": "stdout",
     "output_type": "stream",
     "text": [
      "Already up to date.\n"
     ]
    }
   ],
   "source": [
    "!git pull"
   ]
  },
  {
   "cell_type": "code",
   "execution_count": 12,
   "id": "90665ba6-4238-4652-a2eb-b86175dfd53a",
   "metadata": {},
   "outputs": [
    {
     "name": "stdout",
     "output_type": "stream",
     "text": [
      "Enumerating objects: 13, done.\n",
      "Counting objects: 100% (13/13), done.\n",
      "Delta compression using up to 8 threads\n",
      "Compressing objects: 100% (8/8), done.\n",
      "Writing objects: 100% (10/10), 13.78 KiB | 6.89 MiB/s, done.\n",
      "Total 10 (delta 2), reused 0 (delta 0), pack-reused 0\n",
      "remote: Resolving deltas: 100% (2/2), completed with 1 local object.\u001b[K\n",
      "To https://github.com/kkju1123/python\n",
      "   ab10c8d..62f59fe  main -> main\n"
     ]
    }
   ],
   "source": [
    "!git push"
   ]
  },
  {
   "cell_type": "code",
   "execution_count": 14,
   "id": "a261fb04-3fc0-4ae7-953d-029d5ab99db8",
   "metadata": {},
   "outputs": [
    {
     "name": "stdout",
     "output_type": "stream",
     "text": [
      "J\n"
     ]
    }
   ],
   "source": [
    "name = \"kekeJu\"\n",
    "print(name[4])"
   ]
  },
  {
   "cell_type": "code",
   "execution_count": 15,
   "id": "382f1661-6262-4173-a861-7c77bef02b80",
   "metadata": {},
   "outputs": [
    {
     "name": "stdout",
     "output_type": "stream",
     "text": [
      "u\n"
     ]
    }
   ],
   "source": [
    "print(name[-1])"
   ]
  },
  {
   "cell_type": "code",
   "execution_count": 16,
   "id": "716b2cfb-3cbe-4d10-bb10-da6760dac2f3",
   "metadata": {},
   "outputs": [
    {
     "data": {
      "text/plain": [
       "6"
      ]
     },
     "execution_count": 16,
     "metadata": {},
     "output_type": "execute_result"
    }
   ],
   "source": [
    "len(name)"
   ]
  },
  {
   "cell_type": "code",
   "execution_count": 17,
   "id": "642ea27e-f7aa-4891-824b-3b1e39021b6b",
   "metadata": {},
   "outputs": [
    {
     "data": {
      "text/plain": [
       "'ke'"
      ]
     },
     "execution_count": 17,
     "metadata": {},
     "output_type": "execute_result"
    }
   ],
   "source": [
    "name[0:2]"
   ]
  },
  {
   "cell_type": "code",
   "execution_count": 18,
   "id": "a27ef101-e053-497f-b3a4-96650d117629",
   "metadata": {},
   "outputs": [
    {
     "data": {
      "text/plain": [
       "'kkJ'"
      ]
     },
     "execution_count": 18,
     "metadata": {},
     "output_type": "execute_result"
    }
   ],
   "source": [
    "name[::2]"
   ]
  },
  {
   "cell_type": "code",
   "execution_count": 19,
   "id": "55a51d11-15db-4909-b3ee-77dc9107ab7f",
   "metadata": {},
   "outputs": [
    {
     "data": {
      "text/plain": [
       "'kkJ'"
      ]
     },
     "execution_count": 19,
     "metadata": {},
     "output_type": "execute_result"
    }
   ],
   "source": [
    "name[0:5:2]"
   ]
  },
  {
   "cell_type": "code",
   "execution_count": 20,
   "id": "7a8cf178-8d20-4cb7-886f-8e7a2d70381d",
   "metadata": {},
   "outputs": [
    {
     "data": {
      "text/plain": [
       "'KEKEJU'"
      ]
     },
     "execution_count": 20,
     "metadata": {},
     "output_type": "execute_result"
    }
   ],
   "source": [
    "name.upper()"
   ]
  },
  {
   "cell_type": "code",
   "execution_count": 21,
   "id": "360636dd-329c-4c29-8c8d-6924a400db5c",
   "metadata": {},
   "outputs": [
    {
     "data": {
      "text/plain": [
       "'oeoeJu'"
      ]
     },
     "execution_count": 21,
     "metadata": {},
     "output_type": "execute_result"
    }
   ],
   "source": [
    "name.replace(\"k\",\"o\")"
   ]
  },
  {
   "cell_type": "code",
   "execution_count": 22,
   "id": "5095a676-e67f-4525-b168-3b712110ed17",
   "metadata": {},
   "outputs": [
    {
     "data": {
      "text/plain": [
       "0"
      ]
     },
     "execution_count": 22,
     "metadata": {},
     "output_type": "execute_result"
    }
   ],
   "source": [
    "name.find(\"k\")"
   ]
  },
  {
   "cell_type": "code",
   "execution_count": 30,
   "id": "22260357-1a28-4ad2-8e63-381dab65b133",
   "metadata": {},
   "outputs": [],
   "source": [
    "import re\n",
    "pattern = r\"e\"\n",
    "result = re.search(pattern,name)"
   ]
  },
  {
   "cell_type": "code",
   "execution_count": 31,
   "id": "6bb1592c-60bb-4b3c-9b1e-c04c8f72da95",
   "metadata": {},
   "outputs": [
    {
     "data": {
      "text/plain": [
       "<re.Match object; span=(1, 2), match='e'>"
      ]
     },
     "execution_count": 31,
     "metadata": {},
     "output_type": "execute_result"
    }
   ],
   "source": [
    "result"
   ]
  },
  {
   "cell_type": "code",
   "execution_count": 28,
   "id": "6905ea61-ab12-4a96-8201-12ea104c4c85",
   "metadata": {},
   "outputs": [
    {
     "name": "stdout",
     "output_type": "stream",
     "text": [
      "None\n"
     ]
    }
   ],
   "source": [
    "print(result)"
   ]
  },
  {
   "cell_type": "code",
   "execution_count": 33,
   "id": "15af3b6a-66d9-4cef-8cd0-c2a8aa7bda47",
   "metadata": {},
   "outputs": [],
   "source": [
    "resultAll = re.findall(pattern,name)"
   ]
  },
  {
   "cell_type": "code",
   "execution_count": 34,
   "id": "25f53427-ed6b-4d2f-b5a7-0d5a33590316",
   "metadata": {},
   "outputs": [
    {
     "name": "stdout",
     "output_type": "stream",
     "text": [
      "['e', 'e']\n"
     ]
    }
   ],
   "source": [
    "print(resultAll)"
   ]
  },
  {
   "cell_type": "code",
   "execution_count": 35,
   "id": "4189ace8-9f8e-4ec7-bf44-971305a19561",
   "metadata": {},
   "outputs": [],
   "source": [
    "splitname = re.split(pattern,name)"
   ]
  },
  {
   "cell_type": "code",
   "execution_count": 36,
   "id": "ee501da9-6694-4480-a71a-c8f1a5685c5b",
   "metadata": {},
   "outputs": [
    {
     "name": "stdout",
     "output_type": "stream",
     "text": [
      "['k', 'k', 'Ju']\n"
     ]
    }
   ],
   "source": [
    "print(splitname)"
   ]
  },
  {
   "cell_type": "code",
   "execution_count": null,
   "id": "15a0f48f-d89a-4664-ae71-bb9cbfbb4c18",
   "metadata": {},
   "outputs": [],
   "source": [
    "!git add .\n",
    "!git commit -"
   ]
  }
 ],
 "metadata": {
  "kernelspec": {
   "display_name": "Python [conda env:base] *",
   "language": "python",
   "name": "conda-base-py"
  },
  "language_info": {
   "codemirror_mode": {
    "name": "ipython",
    "version": 3
   },
   "file_extension": ".py",
   "mimetype": "text/x-python",
   "name": "python",
   "nbconvert_exporter": "python",
   "pygments_lexer": "ipython3",
   "version": "3.13.5"
  }
 },
 "nbformat": 4,
 "nbformat_minor": 5
}

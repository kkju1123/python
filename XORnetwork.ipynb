{
 "cells": [
  {
   "cell_type": "code",
   "execution_count": 1,
   "id": "a5337434-c413-46e1-8083-de8f53cc2a98",
   "metadata": {},
   "outputs": [
    {
     "name": "stderr",
     "output_type": "stream",
     "text": [
      "Matplotlib is building the font cache; this may take a moment.\n"
     ]
    }
   ],
   "source": [
    "import numpy as ny\n",
    "import matplotlib.pyplot as plt"
   ]
  },
  {
   "cell_type": "code",
   "execution_count": 6,
   "id": "8f34ea52-ab3e-47fc-880a-e1c52556808c",
   "metadata": {},
   "outputs": [],
   "source": [
    "# input \n",
    "x = ny.array([[0,0],[0,1],[1,0],[1,1]])\n",
    "# expect out put array\n",
    "d = ny.array([0,1,1,0])"
   ]
  },
  {
   "cell_type": "code",
   "execution_count": 17,
   "id": "02943523-ba97-4bd4-9067-30b81e063989",
   "metadata": {},
   "outputs": [],
   "source": [
    "# initial value for the network\n",
    "def initial_network_parameters():\n",
    "    inputSize = 2 \n",
    "    hiddenSize = 2\n",
    "    outputSize = 1\n",
    "    lr = 0.1\n",
    "    epochs = 180000\n",
    "    \n",
    "    w1 = ny.random.rand(hiddenSize,inputSize)*2-1\n",
    "    w2 = ny.random.rand(outputSize,hiddenSize)*2-1\n",
    "    b1 = ny.random.rand(hiddenSize,1)*2-1\n",
    "    b2 = ny.random.rand(outputSize,1)*2-1\n",
    "\n",
    "    return w1,w2,b1,b2,lr,epochs"
   ]
  },
  {
   "cell_type": "code",
   "execution_count": 20,
   "id": "d5573af2-adf7-4c07-8fcf-89e6a71408c2",
   "metadata": {},
   "outputs": [],
   "source": [
    "w1,w2,b1,b2,lr,epochs = initial_network_parameters()\n",
    "\n",
    "error_List = []\n",
    "for epoch in range(epochs)"
   ]
  },
  {
   "cell_type": "code",
   "execution_count": null,
   "id": "f886c6b9-ca8b-42aa-a6bb-15fe16d4de2f",
   "metadata": {},
   "outputs": [],
   "source": []
  },
  {
   "cell_type": "code",
   "execution_count": null,
   "id": "0991a41d-661f-422b-aa0c-53acc5b1fef1",
   "metadata": {},
   "outputs": [],
   "source": []
  }
 ],
 "metadata": {
  "kernelspec": {
   "display_name": "Python [conda env:base] *",
   "language": "python",
   "name": "conda-base-py"
  },
  "language_info": {
   "codemirror_mode": {
    "name": "ipython",
    "version": 3
   },
   "file_extension": ".py",
   "mimetype": "text/x-python",
   "name": "python",
   "nbconvert_exporter": "python",
   "pygments_lexer": "ipython3",
   "version": "3.13.5"
  }
 },
 "nbformat": 4,
 "nbformat_minor": 5
}
